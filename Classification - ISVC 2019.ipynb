{
 "cells": [
  {
   "cell_type": "markdown",
   "metadata": {},
   "source": [
    "# Classifying Image Crops\n",
    "In this module, we load pre-made image crops of fibers and void spaces, and classify them with the already trained model \"model-isvc.h5\". Note that the first section of this notebook is a reproduction of the experiments outlined in *\"Evaluating Fiber Detection Models using Neural Networks\".*\n",
    "\n",
    "This time, you won't get the chance to regenerate the model, since we have already done that in our paper. Instead you will get to see the results we obtained.\n",
    "\n",
    "However, below the reproduction of our results, we give you the opportunity to generate your own image crops, retrain a model and classify them accordingly.\n",
    "\n",
    "First, we will introduce all our auxiliary functions needed for this notebook."
   ]
  },
  {
   "cell_type": "markdown",
   "metadata": {},
   "source": [
    "## Auxiliary Functions\n",
    "All functions needed to reproduce experiments, as well as create your own set of images below the reproducibility section."
   ]
  },
  {
   "cell_type": "code",
   "execution_count": 2,
   "metadata": {},
   "outputs": [],
   "source": [
    "# Function to sort files\n",
    "def sort_files(list_files):\n",
    "    \"\"\"\n",
    "    Sorts file list (image slices)\n",
    "    to preserve order.\n",
    "    \n",
    "    list_files: list of files from\n",
    "    os.listdir\n",
    "    returns: list of files.\n",
    "    \"\"\"\n",
    "    sort_list = sorted(map(int,list_files))\n",
    "    to_str = list(map(str,sort_list))\n",
    "\n",
    "    return to_str"
   ]
  },
  {
   "cell_type": "code",
   "execution_count": 3,
   "metadata": {},
   "outputs": [],
   "source": [
    "# label creation for binary data\n",
    "def create_labels(ones_size, zeros_size):\n",
    "    \"\"\"\n",
    "    Generation of class labels accroding\n",
    "    to given sizes:\n",
    "    \n",
    "    input1: length/number of 1's desired\n",
    "    input2: length/number of 0's desired\n",
    "    returns: complete list of labels accor-\n",
    "    ding to the specifications on input\n",
    "    \"\"\"\n",
    "    \n",
    "    the_ones = np.ones(ones_size).tolist()\n",
    "    the_zeros = np.zeros(zeros_size).tolist()\n",
    "    concat_labels = the_ones + the_zeros\n",
    "    \n",
    "    return concat_labels"
   ]
  },
  {
   "cell_type": "code",
   "execution_count": 4,
   "metadata": {},
   "outputs": [],
   "source": [
    "def make_dataframe(list_of_imgs, ones, zeros):\n",
    "    \"\"\"\n",
    "    Creates data frame from a list of images\n",
    "    and adds appropriate labels based on\n",
    "    sizes (ones and zeros)\n",
    "    \n",
    "    input 1: list of images\n",
    "    input 2: number of 1's\n",
    "    input 3: number of 0's\n",
    "    \n",
    "    returns: dataframe with labels\n",
    "    \"\"\"\n",
    "    frame = pd.DataFrame(list_of_imgs)\n",
    "    # attach labels according to sizes (ones and zeros)\n",
    "    frame['Labels'] = create_labels(ones, zeros)\n",
    "    \n",
    "    return frame"
   ]
  },
  {
   "cell_type": "code",
   "execution_count": 5,
   "metadata": {},
   "outputs": [],
   "source": [
    "def matrix_shuffle(list_1, list_2, ones, zeros, separate_files=False):\n",
    "    \"\"\"\n",
    "    Uses lists on input to create dataframes \n",
    "    with appropriate labels. Concatenates\n",
    "    these dataframes as a way to build our X \n",
    "    and y prior to training and testing.\n",
    "    Shuffles the matrix (X) to introduce random-\n",
    "    ness in test/training process.\n",
    "    \n",
    "    input 1: list of imgs\n",
    "    input 2: list of imgs (another one)\n",
    "    input 3: number of 1's\n",
    "    input 4: number of 0's\n",
    "    \n",
    "    output: shuffled matrix (no labels), labels\n",
    "    \"\"\"\n",
    "    \n",
    "    # creates dataframe with labels \n",
    "    if separate_files:\n",
    "        frame_1 = make_dataframe(list_1, ones, 0)\n",
    "        frame_2 = make_dataframe(list_2, 0, zeros)\n",
    "    else:\n",
    "        frame_1 = make_dataframe(list_1, ones, zeros)\n",
    "        frame_2 = make_dataframe(list_2, ones, zeros)\n",
    "    \n",
    "    list_frames = [frame_1, frame_2]\n",
    "    \n",
    "    # double check here that the labels are kept as they should, \n",
    "    # it works!\n",
    "    attach_them = pd.concat(list_frames, ignore_index=True)\n",
    "    \n",
    "    # shuffle it!\n",
    "    attached_shuffle = attach_them.sample(frac=1).reset_index(drop=True)\n",
    "    \n",
    "    # drop the labels but save-them!\n",
    "    y_labels = attached_shuffle['Labels']\n",
    "    attached_no_labels = attached_shuffle.drop(['Labels'], axis=1)\n",
    "    \n",
    "    # returns shuffled matrix without labels, and its dropped labels\n",
    "    return attached_no_labels, y_labels"
   ]
  },
  {
   "cell_type": "code",
   "execution_count": 6,
   "metadata": {},
   "outputs": [],
   "source": [
    "def unflatten_values(unlabeled_dataframe):\n",
    "    \"\"\"\n",
    "    Takes the unlabeled dataframe's values,\n",
    "    to unflatten them to (16,16) imgs\n",
    "    inside a list. Returns list.\n",
    "    \n",
    "    input 1: dataframe with no labels\n",
    "    output: list of unflattened images\n",
    "    \"\"\"\n",
    "    values = unlabeled_dataframe.values\n",
    "    temp_unflat = []\n",
    "    for element in values:\n",
    "        un = element.reshape(16,16)\n",
    "        temp_unflat.append(un)\n",
    "        \n",
    "    return temp_unflat\n",
    "        "
   ]
  },
  {
   "cell_type": "code",
   "execution_count": 7,
   "metadata": {},
   "outputs": [],
   "source": [
    "def conf_matrix(y, predictions):\n",
    "    cm= confusion_matrix(y.argmax(axis=1), predictions.argmax(axis=1), labels=[0,1])\n",
    "    FP = cm[0,1]\n",
    "    FN = cm[1,0]\n",
    "    TP = cm[1,1]\n",
    "    TN = cm[0,0]\n",
    "\n",
    "    # Sensitivity, hit rate, recall, or true positive rat\n",
    "    TPR = TP/(TP+FN)\n",
    "        # Specificity or true negative rate\n",
    "    TNR = TN/(TN+FP)\n",
    "        # Precision or positive predictive value\n",
    "    PPV = TP/(TP+FP)\n",
    "        # Negative predictive value\n",
    "    NPV = TN/(TN+FN)\n",
    "        # Fall out or false positive rate\n",
    "    FPR = FP/(FP+TN)\n",
    "        # False negative rate\n",
    "    FNR = FN/(TP+FN)\n",
    "        # False discovery rate\n",
    "    FDR = FP/(TP+FP)\n",
    "\n",
    "        # Overall accuracy\n",
    "    ACC = (TP+TN)/(TP+FP+FN+TN)\n",
    "    \n",
    "    all_results = {'Sensitivity': TPR, 'Specificity': TNR, 'Precision': PPV,\n",
    "                  'Neg. Pred Rate': NPV, 'False Pos. Rate': FPR,\n",
    "                  'False Neg. Rate': FNR, 'False Discovery Rate:': FDR,\n",
    "                  'Accuracy': ACC}\n",
    "    \n",
    "    frame_results = pd.DataFrame(list(all_results.items()), columns = ['Measure', 'Rates'])\n",
    "    \n",
    "    #return frame_results, cm, (TP, FN, FP, TN)\n",
    "    return all_results"
   ]
  },
  {
   "cell_type": "code",
   "execution_count": 8,
   "metadata": {},
   "outputs": [],
   "source": [
    "def predict_natalies(fibs, voids, cnn_model, rotate = False):\n",
    "    \n",
    "    if rotate:\n",
    "        fib_resize = [transform.rotate(transform.resize(rgb2gray(a),(16,16), anti_aliasing=True),angle=90).flatten() for a in fibs]\n",
    "        void_resize = [transform.rotate(transform.resize(rgb2gray(b), (16,16), anti_aliasing=True),angle=90).flatten() for b in voids]\n",
    "    else:\n",
    "        fib_resize = [transform.resize(rgb2gray(a),(16,16), anti_aliasing=True).flatten() for a in fibs]\n",
    "        void_resize = [transform.resize(rgb2gray(b), (16,16), anti_aliasing=True).flatten() for b in voids]\n",
    "    \n",
    "    shuf_imgs, shuf_labels = matrix_shuffle(fib_resize, void_resize, len(fib_resize),\n",
    "                                 len(void_resize), separate_files=True)\n",
    "    \n",
    "    X = np.asarray(unflatten_values(shuf_imgs)).astype('float32')\n",
    "    X = X.reshape(X.shape[0], 16, 16, 1)\n",
    "    \n",
    "    y = to_categorical(shuf_labels)\n",
    "    \n",
    "    # making the prediction\n",
    "    pred = cnn_model.predict(X)\n",
    "    pred = (pred > 0.5)\n",
    "    \n",
    "    # get measurements: grades is a dictionary\n",
    "    results = conf_matrix(y, pred)\n",
    "    \n",
    "    return results"
   ]
  },
  {
   "cell_type": "code",
   "execution_count": 9,
   "metadata": {},
   "outputs": [],
   "source": [
    "def metrics_dataframe(your_list):\n",
    "    \"\"\"\n",
    "    Converts list of dictionaries to\n",
    "    data frame ensuring order in list. \n",
    "    (since lists preserve order)\n",
    "    \n",
    "    your_list : list of dictionaries\n",
    "    output: dataframe of however many\n",
    "    rows (elements) in your_list.\n",
    "    \"\"\"\n",
    "    \n",
    "    size = len(your_list)\n",
    "    all_mets_df = pd.DataFrame()\n",
    "    \n",
    "    for dic in range(size):\n",
    "        temp_df = pd.DataFrame(your_list[dic], index=[0])\n",
    "        all_mets_df = all_mets_df.append(temp_df, \n",
    "                                         ignore_index = True)\n",
    "        \n",
    "    return all_mets_df"
   ]
  },
  {
   "cell_type": "code",
   "execution_count": 10,
   "metadata": {},
   "outputs": [],
   "source": [
    "def auto_crop(segmented_image, raw_image, image_number, path):\n",
    "    \n",
    "    \"\"\"\n",
    "    Crops fibers enclosed in the regions detected by regionprops.\n",
    "    These crops are generated based on the segmentations done\n",
    "    by someone else, found in 'segmented_image'.\n",
    "    \n",
    "    @segmented_image: segmented of image cross-section from specimen.\n",
    "    @raw_image:     raw image x-section from microCT scanned specimen. \n",
    "                    Note that this x-section corresponds to the same\n",
    "                    image slice as the segmented_image.\n",
    "    @image_number:  number of image slice\n",
    "    @path:          path to a directory on which the images will \n",
    "                    be saved.\n",
    "    output:         image crops found in \"@path + /image_number\".\n",
    "    \"\"\"\n",
    "    \n",
    "    # bounds for area within image\n",
    "    minRegionArea = 150\n",
    "    maxRegionArea = 50000\n",
    "    \n",
    "    # get dimensions of segmented_image    \n",
    "    w, h = segmented_image.shape\n",
    "        \n",
    "    # label the segmented_image\n",
    "    labeled = label(segmented_image)\n",
    "    \n",
    "    # get region properties\n",
    "    props = regionprops(labeled)\n",
    "    \n",
    "    # iterate throuh all properties\n",
    "    for i,p in enumerate(props):  \n",
    "        # coordinates of rectangle enclosing fibers\n",
    "        min_y = max(0, p.bbox[0]) \n",
    "        min_x = max(0, p.bbox[1])\n",
    "        max_y = max(0, p.bbox[2])\n",
    "        max_x = max(0, p.bbox[3])\n",
    "        \n",
    "        # crop according to coords the raw microCT \n",
    "        crop = raw_image[min_y:max_y, min_x:max_x]\n",
    "        \n",
    "        # normalize and save as gray image\n",
    "        cmap = plt.cm.gray\n",
    "        normalize = plt.Normalize(vmin=crop.min(),\n",
    "                                 vmax=crop.max())\n",
    "        fiber_crop = cmap(normalize(crop))\n",
    "        \n",
    "        string_one = \"_\" + str(p.bbox[0]) + \"_\" + str(p.bbox[2])\n",
    "        string_two = \"_\" + str(p.bbox[1]) + \"_\" + str(p.bbox[3])\n",
    "        coords = string_one + string_two\n",
    "        \n",
    "        save_prefix = path + str(image_number)\n",
    "        save_in = save_prefix + \"/crop\" + str(i) + coords +'.png'\n",
    "        \n",
    "        if not os.path.isdir(save_prefix):\n",
    "            os.mkdir(save_prefix)\n",
    "            \n",
    "        plt.imsave(save_in, fiber_crop)         "
   ]
  },
  {
   "cell_type": "code",
   "execution_count": 11,
   "metadata": {},
   "outputs": [],
   "source": [
    "def manual_crop(raw_image, csv, path, slice_number):\n",
    "    \n",
    "    \"\"\"\n",
    "    Crop fibers selected manually from coordinates\n",
    "    in given csv file. Once cropped, each image is\n",
    "    saved in path.\n",
    "    \n",
    "    @raw_image = microCT image slice to crop from\n",
    "    @csv =       csv filename with saved coordinates \n",
    "                 from corresponding image slice.\n",
    "    @path =      directory path where to save all \n",
    "                 images.\n",
    "    @slice_number = image crops from slice_number\n",
    "                 cross-section. \n",
    "    \"\"\"\n",
    "    \n",
    "    # load data\n",
    "    extract_file = np.genfromtxt(csv, \n",
    "                                 delimeter = \",\",\n",
    "                                skip_header = 1)  \n",
    "    for line in extract_file:\n",
    "        # unpack contents\n",
    "        fiber_number, x, y = line\n",
    "        \n",
    "        # crop accordint to selection in line\n",
    "        crop = raw_image[int(y)-12:int(y)+12,\n",
    "                        int(x)-12:int(x)+12]\n",
    "        \n",
    "        # save as gray & normalize\n",
    "        cmap = plt.cm.gray\n",
    "        normalize = plt.Normalize(vmin=crop.min(),\n",
    "                                 vmax=crop.max())\n",
    "        fiber_crop = cmap(normalize(crop))\n",
    "        \n",
    "        # save file name convention\n",
    "        coords = \"_\"+ str(x) + \"_\" +str(y) + \".png\"\n",
    "        directory = path + str(slice_number)\n",
    "        save_in = directory + '/crop' + coords\n",
    "        \n",
    "        if not os.path.isdir(directory):\n",
    "            os.mkdir(directory)\n",
    "            \n",
    "        plt.imsave(save_in, fiber_crop)  "
   ]
  },
  {
   "cell_type": "code",
   "execution_count": 12,
   "metadata": {},
   "outputs": [],
   "source": [
    "def void_crops(segmented_image, raw_image, slice_number, path):\n",
    "    \n",
    "    # 217 is the value of fiber intensity in seg. ground truth\n",
    "    voids = segmented_image != 217\n",
    "    voids = morphology.binary_erosion(voids)\n",
    "    voids = morphology.binary_erosion(voids)\n",
    "    voids = morphology.binary_erosion(voids)\n",
    "    \n",
    "    # label eroded voids\n",
    "    voids_labeled = label(voids)\n",
    "    \n",
    "    # limits on measurements\n",
    "    largest = 10\n",
    "    ws = largest\n",
    "    area_largest = np.square(largest)\n",
    "    \n",
    "    # get properties of labeled eroded regions\n",
    "    void_regions = regionprops(voids_labeled)\n",
    "    count = 0\n",
    "    \n",
    "    for prop in void_regions:\n",
    "        \n",
    "        # get rectangular box for region\n",
    "        w = prop.bbox[2] - prop.bbox[0]\n",
    "        h = prop.bbox[3] - prop.bbox[1]\n",
    "        \n",
    "        # region detected must meet the following conditions\n",
    "        a = prop.convex_area >= area_largest\n",
    "        b = w > largest\n",
    "        c = h > largest\n",
    "        d = prop.eccentricity > 0.5\n",
    "        \n",
    "        # we will only crop if a-d are met:\n",
    "        if a & b & c & d:\n",
    "            # crop the voids not ground_truth \n",
    "            binary = voids[prop.bbox[0]:prop.bbox[2],\n",
    "                           prop.bbox[1]:prop.bbox[3]]*prop.convex_image\n",
    "            h, w = binary.shape\n",
    "            \n",
    "            # now find the valid rectangle contained within arbitrary polygon\n",
    "            for i in np.arange(1, w-ws):\n",
    "                for j in np.arange(1, h-ws):\n",
    "                    rect = binary[i:i+ws , j:j+ws]\n",
    "                    \n",
    "                    if np.sum(rect) == np.square(ws):\n",
    "                        \n",
    "                        gray = raw_image[prop.bbox[0]:prop.bbox[2],prop.bbox[1]:prop.bbox[3]]\n",
    "                        rect = gray[i:i+ws , j:j+ws]\n",
    "                        count += 1\n",
    "                        i = max(i+ws,w)\n",
    "                        j = max(j+ws,h)\n",
    "                        \n",
    "                        #save cropped region\n",
    "                        directory = path + str(slice_number)\n",
    "                        to_filename = directory + '/void'+str(count)+'.png'\n",
    "                        \n",
    "                        if not os.path.isdir(directory):\n",
    "                            os.mkdir(directory)\n",
    "                            \n",
    "                        plt.imsave(to_filename,rect,cmap='gray')\n",
    "        "
   ]
  },
  {
   "cell_type": "code",
   "execution_count": 13,
   "metadata": {},
   "outputs": [],
   "source": [
    "def make_fibers(seg_collection, raw_collection, directory, file_index, image_index):\n",
    "    \"\"\"\n",
    "    Function to make fibers through auto_crop function\n",
    "    raw_coll: image collection for raw microCT data\n",
    "    seg_coll: image collection for seg results\n",
    "    direct: where all fib crops will be stored\n",
    "    file_index: dir names corresponding to each\n",
    "    image slice.\n",
    "    image_index : assuring we crop only on every\n",
    "    10th slice.\n",
    "    returns: completion of task, time taken\n",
    "    \"\"\"\n",
    "    \n",
    "    if not os.path.isdir(directory):\n",
    "        os.mkdir(directory)\n",
    "        \n",
    "    time_start = time.time()\n",
    "    folder = directory + '/'\n",
    "    \n",
    "    num = 0\n",
    "    for img in image_index:\n",
    "        auto_crop(seg_collection[img], raw_collection[img],\n",
    "                 file_index[num], folder)\n",
    "        num += 1\n",
    "    time_end = time.time()\n",
    "    sub = time_end - time_start\n",
    "    done = \"Done! Generating fiber crops took \" + str(sub) + \" secs\"\n",
    "    \n",
    "    return done"
   ]
  },
  {
   "cell_type": "code",
   "execution_count": 14,
   "metadata": {},
   "outputs": [],
   "source": [
    "def make_voids(seg_collection, raw_collection, directory, file_index, image_index):  \n",
    "    \"\"\"\n",
    "    Function to make voids through void_crops function\n",
    "    raw_colleciton: image collection for raw microCT\n",
    "    seg_colelction : image collection for seg results\n",
    "    directory: where all crops will be stored\n",
    "    automatically generated.\n",
    "    file_index: file index slice per cross section\n",
    "    image_index: voids from every 10th slice in the\n",
    "    stack.\n",
    "    \n",
    "    returns: string announcing completion of task\n",
    "    \"\"\"\n",
    "    if not os.path.isdir(directory):\n",
    "        os.mkdir(directory)\n",
    "    \n",
    "    time_start = time.time()\n",
    "    dir_folder = directory + '/'\n",
    "    \n",
    "    c = 0\n",
    "    for im in image_index:\n",
    "        void_crops(seg_collection[im], raw_collection[im],\n",
    "                  file_index[c], dir_folder)\n",
    "        c += 1\n",
    "    \n",
    "    time_end = time.time()\n",
    "    \n",
    "    total = time_end - time_start\n",
    "    s = \"Done! Generating voids lasted \" + str(total) + \" secs\"\n",
    "    \n",
    "    return s\n",
    "    "
   ]
  },
  {
   "cell_type": "markdown",
   "metadata": {},
   "source": [
    "## Reproducing our Experiments"
   ]
  },
  {
   "cell_type": "code",
   "execution_count": 17,
   "metadata": {},
   "outputs": [
    {
     "name": "stderr",
     "output_type": "stream",
     "text": [
      "Using TensorFlow backend.\n"
     ]
    }
   ],
   "source": [
    "# some dependencies\n",
    "import time\n",
    "import numpy as np\n",
    "import matplotlib.pyplot as plt \n",
    "import os\n",
    "import glob\n",
    "from skimage import color, io, morphology, img_as_ubyte, feature, exposure, filters, util\n",
    "from skimage.filters import frangi, hessian\n",
    "import pandas as pd\n",
    "from skimage import exposure\n",
    "from keras.utils import to_categorical\n",
    "from sklearn.metrics import confusion_matrix\n",
    "from skimage.color import rgb2gray\n",
    "from skimage.exposure import equalize_adapthist\n",
    "\n",
    "# some more dependencies\n",
    "from keras.models import Sequential\n",
    "from keras import models, layers\n",
    "import keras\n",
    "from skimage import transform\n",
    "from skimage.filters import gaussian\n",
    "\n",
    "from numpy import loadtxt\n",
    "from keras.models import load_model\n",
    "from skimage.morphology import label, binary_erosion\n",
    "from skimage.measure import regionprops"
   ]
  },
  {
   "cell_type": "markdown",
   "metadata": {},
   "source": [
    "### Loading Image Crops\n",
    "Loading fiber crops and void spaces corresponding to stack: \"title_of_stack\"\n",
    "Note that these are the images that were created based on the segmented results by: \"Larson et....\"\n",
    "\n",
    "**The process is as follows**:\n",
    "1. Obtain list of files (each file is an image cross-section within the stack).\n",
    "2. Sort this list to preserve order of cross-sections in the stack (bottom-up approach)."
   ]
  },
  {
   "cell_type": "code",
   "execution_count": 18,
   "metadata": {},
   "outputs": [],
   "source": [
    "# paths to the cropped images\n",
    "fiber_path = 'ready_data_first_stack/gtn/crops_per_slice/'\n",
    "void_path = 'ready_data_first_stack/gtn/voids_per_slice/'"
   ]
  },
  {
   "cell_type": "code",
   "execution_count": 19,
   "metadata": {
    "scrolled": true
   },
   "outputs": [],
   "source": [
    "# listed directory names containing image crops of voids and fibers\n",
    "fiber_crops = os.listdir(fiber_path)\n",
    "fiber_crops = sort_files(fiber_crops)\n",
    "void_spaces = os.listdir(void_path)\n",
    "void_spaces = sort_files(void_spaces)"
   ]
  },
  {
   "cell_type": "markdown",
   "metadata": {},
   "source": [
    "### Load the CNN model\n",
    "Recall that the model we load is already trained with fiber and void image crops.\n",
    "\n",
    "The fiber crops are derived from the manual labeling (clicking) on fibers on slice #1000 of the raw image stack. The void crops were automatically generated via \"void_crop\". These are the void spaces corresponding to slice #1000."
   ]
  },
  {
   "cell_type": "code",
   "execution_count": 20,
   "metadata": {},
   "outputs": [
    {
     "name": "stdout",
     "output_type": "stream",
     "text": [
      "Model: \"sequential_2\"\n",
      "_________________________________________________________________\n",
      "Layer (type)                 Output Shape              Param #   \n",
      "=================================================================\n",
      "conv2d_4 (Conv2D)            (None, 16, 16, 6)         156       \n",
      "_________________________________________________________________\n",
      "average_pooling2d_3 (Average (None, 15, 15, 6)         0         \n",
      "_________________________________________________________________\n",
      "conv2d_5 (Conv2D)            (None, 11, 11, 16)        2416      \n",
      "_________________________________________________________________\n",
      "average_pooling2d_4 (Average (None, 5, 5, 16)          0         \n",
      "_________________________________________________________________\n",
      "conv2d_6 (Conv2D)            (None, 1, 1, 120)         48120     \n",
      "_________________________________________________________________\n",
      "flatten_2 (Flatten)          (None, 120)               0         \n",
      "_________________________________________________________________\n",
      "dense_3 (Dense)              (None, 84)                10164     \n",
      "_________________________________________________________________\n",
      "dense_4 (Dense)              (None, 2)                 170       \n",
      "=================================================================\n",
      "Total params: 61,026\n",
      "Trainable params: 61,026\n",
      "Non-trainable params: 0\n",
      "_________________________________________________________________\n"
     ]
    }
   ],
   "source": [
    "# load the trained model\n",
    "model = load_model(\"LeNet/MODEL/model-on-nats.h5\")\n",
    "model.summary()"
   ]
  },
  {
   "cell_type": "code",
   "execution_count": 21,
   "metadata": {},
   "outputs": [
    {
     "data": {
      "text/plain": [
       "<matplotlib.image.AxesImage at 0x1c38e8d3c8>"
      ]
     },
     "execution_count": 21,
     "metadata": {},
     "output_type": "execute_result"
    },
    {
     "data": {
      "image/png": "[encoded data removed]",
      "text/plain": [
       "<Figure size 1440x1080 with 1 Axes>"
      ]
     },
     "metadata": {
      "needs_background": "light"
     },
     "output_type": "display_data"
    }
   ],
   "source": [
    "# recall this model's training\n",
    "performance_isvc = plt.imread(\"LeNetPerformance-ISVC.png\")\n",
    "fig, ax = plt.subplots(figsize=(20,15))\n",
    "ax.imshow(performance_isvc)"
   ]
  },
  {
   "cell_type": "markdown",
   "metadata": {},
   "source": [
    "### Classifying 10% of generated data\n",
    "With the loaded model, we now classify 10% of the available image slices (100 slices).\n",
    "That is, we classify the image crops (both voids and fibers) from 100 slices.\n"
   ]
  },
  {
   "cell_type": "code",
   "execution_count": 22,
   "metadata": {},
   "outputs": [],
   "source": [
    "# generating the 10% indexing\n",
    "every_100th = np.arange(0,1000,10)"
   ]
  },
  {
   "cell_type": "code",
   "execution_count": 23,
   "metadata": {},
   "outputs": [
    {
     "name": "stdout",
     "output_type": "stream",
     "text": [
      "Classifying 10% of the image stack took 8498.185872077942 seconds.\n"
     ]
    }
   ],
   "source": [
    "metrics_reg = []\n",
    "\n",
    "# how long will this take?\n",
    "time_start_reg = time.time()\n",
    "\n",
    "for i in every_100th:\n",
    "    fib_collection = io.ImageCollection(fiber_path + fiber_crops[i] + '/*.png',\n",
    "                                       conserve_memory=True)\n",
    "    void_collection = io.ImageCollection(void_path + void_spaces[i] + '/*.png',\n",
    "                                        conserve_memory=True)   \n",
    "    classify_them = predict_natalies(fib_collection, void_collection,model)\n",
    "    metrics_reg.append(classify_them)\n",
    "    \n",
    "time_end_reg = time.time()\n",
    "print(\"Classifying 10% of the image stack took\", time_end_reg - time_start_reg, \"seconds.\")"
   ]
  },
  {
   "cell_type": "markdown",
   "metadata": {},
   "source": [
    "**Create data frame + graphs depicting results**"
   ]
  },
  {
   "cell_type": "code",
   "execution_count": 24,
   "metadata": {},
   "outputs": [],
   "source": [
    "# results for non-augmented classification (10%)\n",
    "df_reg = metrics_dataframe(metrics_reg)\n",
    "df_reg.to_csv('metrics-reg-10.csv')"
   ]
  },
  {
   "cell_type": "code",
   "execution_count": 25,
   "metadata": {},
   "outputs": [
    {
     "data": {
      "text/plain": [
       "Sensitivity              0.920944\n",
       "Specificity              0.965915\n",
       "Precision                0.978832\n",
       "Neg. Pred Rate           0.876699\n",
       "False Pos. Rate          0.034085\n",
       "False Neg. Rate          0.079056\n",
       "False Discovery Rate:    0.021168\n",
       "Accuracy                 0.937504\n",
       "dtype: float64"
      ]
     },
     "execution_count": 25,
     "metadata": {},
     "output_type": "execute_result"
    }
   ],
   "source": [
    "# show the mean\n",
    "df_reg.mean(axis=0)"
   ]
  },
  {
   "cell_type": "markdown",
   "metadata": {},
   "source": [
    "### Classifying 10% of the augmented data\n",
    "Rotated at 90 degrees."
   ]
  },
  {
   "cell_type": "code",
   "execution_count": 26,
   "metadata": {},
   "outputs": [
    {
     "name": "stdout",
     "output_type": "stream",
     "text": [
      "Classifying 10% of augmented data took  9011.540470838547  secs\n"
     ]
    }
   ],
   "source": [
    "# we will use the same indexes\n",
    "\n",
    "metrics_rot = []\n",
    "\n",
    "# how long will this take?\n",
    "time_start_rot = time.time()\n",
    "\n",
    "for j in every_100th:\n",
    "    fib_90 = io.ImageCollection(fiber_path + fiber_crops[j] + '/*.png',\n",
    "                               conserve_memory=True)\n",
    "    void_90 = io.ImageCollection(void_path + void_spaces[j] + '/*.png',\n",
    "                                conserve_memory = True)\n",
    "    # we rotate images at 90 deg\n",
    "    predict = predict_natalies(fib_90, void_90, model, rotate=True)\n",
    "    metrics_rot.append(predict)\n",
    "time_end_rot = time.time()\n",
    "print(\"Classifying 10% of augmented data took \", time_end_rot - time_start_rot, \" secs\")    "
   ]
  },
  {
   "cell_type": "markdown",
   "metadata": {},
   "source": [
    "**Create dataframe to see classification results**"
   ]
  },
  {
   "cell_type": "code",
   "execution_count": 27,
   "metadata": {},
   "outputs": [],
   "source": [
    "df_rotated = metrics_dataframe(metrics_rot)\n",
    "df_rotated.to_csv('metrics-rotated-10.csv')"
   ]
  },
  {
   "cell_type": "code",
   "execution_count": 28,
   "metadata": {},
   "outputs": [
    {
     "data": {
      "text/plain": [
       "Sensitivity              0.976716\n",
       "Specificity              0.911657\n",
       "Precision                0.949834\n",
       "Neg. Pred Rate           0.957969\n",
       "False Pos. Rate          0.088343\n",
       "False Neg. Rate          0.023284\n",
       "False Discovery Rate:    0.050166\n",
       "Accuracy                 0.952727\n",
       "dtype: float64"
      ]
     },
     "execution_count": 28,
     "metadata": {},
     "output_type": "execute_result"
    }
   ],
   "source": [
    "# show the mean again\n",
    "df_rotated.mean(axis=0)"
   ]
  },
  {
   "cell_type": "markdown",
   "metadata": {},
   "source": [
    "## Create your own image crops!\n",
    "Up until now, you have seen the reproduction of our experiments.\n",
    "We now give you the opportunity to generate your own image crops, and retrain our CNN model.\n",
    "\n",
    "Note that the image generation will be coming from other available stacks.\n",
    "We will again keep this at 10% to save you a great deal of time.\n",
    "\n",
    "1. Below you will find paths to the available stacks (besides the one we've created for you).\n",
    "2. After your selection you may proceed to run the cells to generate crops from the selected stack.\n",
    "3. All images are stored in the given file. Our default is \" . \", you can change that if you want to.\n",
    "4. Now you can classify all generated images with our trained model! "
   ]
  },
  {
   "cell_type": "code",
   "execution_count": 29,
   "metadata": {},
   "outputs": [],
   "source": [
    "path_seg = \"data/seg_stacks/\"\n",
    "path_raw = \"data/raw_stacks/\""
   ]
  },
  {
   "cell_type": "markdown",
   "metadata": {},
   "source": [
    "**The segmented stack corresponding to the raw stack belongs share the same name.**"
   ]
  },
  {
   "cell_type": "code",
   "execution_count": 30,
   "metadata": {},
   "outputs": [],
   "source": [
    "# these are the stack lists\n",
    "seg_test = sorted([f for f in os.listdir(path_seg) if not f.startswith('.')])\n",
    "raw_test = sorted([f for f in os.listdir(path_raw) if not f.startswith('.')])"
   ]
  },
  {
   "cell_type": "markdown",
   "metadata": {},
   "source": [
    "**Your stack options:**\n",
    "1. first number corresponds to the segmented stack\n",
    "2. second number corresponds to its raw stack\n",
    "\n",
    "e.g. a1 (segmented results of first available stack), a2 (raw microCT data of first available stack)."
   ]
  },
  {
   "cell_type": "code",
   "execution_count": 31,
   "metadata": {},
   "outputs": [],
   "source": [
    "# indexing list\n",
    "a1 = seg_test[0]\n",
    "a2 = raw_test[0]\n",
    "b1 = None\n",
    "b2 = None\n",
    "c1 = None\n",
    "c2 = None"
   ]
  },
  {
   "cell_type": "code",
   "execution_count": 32,
   "metadata": {},
   "outputs": [],
   "source": [
    "my_seg_stack = a1\n",
    "my_raw_stack = a2"
   ]
  },
  {
   "cell_type": "markdown",
   "metadata": {},
   "source": [
    "Importing all available cross sections in the selected stack"
   ]
  },
  {
   "cell_type": "code",
   "execution_count": 33,
   "metadata": {},
   "outputs": [],
   "source": [
    "raw = io.ImageCollection(path_raw + my_raw_stack + '/*.tiff', conserve_memory=True)\n",
    "seg = io.ImageCollection(path_seg + my_seg_stack + '/*.tif', conserve_memory=True)"
   ]
  },
  {
   "cell_type": "code",
   "execution_count": 34,
   "metadata": {
    "scrolled": true
   },
   "outputs": [
    {
     "data": {
      "text/plain": [
       "True"
      ]
     },
     "execution_count": 34,
     "metadata": {},
     "output_type": "execute_result"
    }
   ],
   "source": [
    "len(raw) == len(seg)"
   ]
  },
  {
   "cell_type": "markdown",
   "metadata": {},
   "source": [
    "### Generating crops of void spaces\n",
    "**Your inputted path should end with a '/'**\n",
    "\n",
    "We make you default directory for either method of cropping:\n",
    "\n",
    "1. \"void_crops\"\n",
    "2. \"fiber_crops\""
   ]
  },
  {
   "cell_type": "markdown",
   "metadata": {},
   "source": [
    "**For file name purposes, we have a set of indexes here that will help with the storing of crops.**\n"
   ]
  },
  {
   "cell_type": "code",
   "execution_count": 35,
   "metadata": {},
   "outputs": [],
   "source": [
    "# storing every 10th file\n",
    "tenth_file = np.arange(159, 1159, 10)"
   ]
  },
  {
   "cell_type": "code",
   "execution_count": 36,
   "metadata": {},
   "outputs": [],
   "source": [
    "# indexing on every 10th image slice (10%) of the stack.\n",
    "ten_percent = np.arange(0,1000, 10)"
   ]
  },
  {
   "cell_type": "markdown",
   "metadata": {},
   "source": [
    "*Note: this should be accessed in order given how ImageCollection gathers files.*"
   ]
  },
  {
   "cell_type": "code",
   "execution_count": 37,
   "metadata": {},
   "outputs": [
    {
     "data": {
      "text/plain": [
       "'Done! Generating fiber crops took 879.656149148941 secs'"
      ]
     },
     "execution_count": 37,
     "metadata": {},
     "output_type": "execute_result"
    }
   ],
   "source": [
    "# main call to generate crops\n",
    "make_fibers(seg, raw, 'fiber_crops', tenth_file, ten_percent)"
   ]
  },
  {
   "cell_type": "code",
   "execution_count": 38,
   "metadata": {
    "scrolled": true
   },
   "outputs": [
    {
     "name": "stderr",
     "output_type": "stream",
     "text": [
      "/Users/mirasilvia/anaconda3/lib/python3.7/site-packages/skimage/measure/_regionprops.py:250: UserWarning: regionprops and image moments (including moments, normalized moments, central moments, and inertia tensor) of 2D images will change from xy coordinates to rc coordinates in version 0.16.\n",
      "See https://scikit-image.org/docs/0.14.x/release_notes_and_installation.html#deprecations for details on how to avoid this message.\n",
      "  warn(XY_TO_RC_DEPRECATION_MESSAGE)\n",
      "/Users/mirasilvia/anaconda3/lib/python3.7/site-packages/skimage/measure/_regionprops.py:260: UserWarning: regionprops and image moments (including moments, normalized moments, central moments, and inertia tensor) of 2D images will change from xy coordinates to rc coordinates in version 0.16.\n",
      "See https://scikit-image.org/docs/0.14.x/release_notes_and_installation.html#deprecations for details on how to avoid this message.\n",
      "  warn(XY_TO_RC_DEPRECATION_MESSAGE)\n"
     ]
    },
    {
     "data": {
      "text/plain": [
       "'Done! Generating voids lasted 1017.1190042495728 secs'"
      ]
     },
     "execution_count": 38,
     "metadata": {},
     "output_type": "execute_result"
    }
   ],
   "source": [
    "make_voids(seg, raw, 'void_crops', tenth_file, ten_percent)"
   ]
  },
  {
   "cell_type": "markdown",
   "metadata": {},
   "source": [
    "## Now classify them"
   ]
  },
  {
   "cell_type": "code",
   "execution_count": 36,
   "metadata": {},
   "outputs": [],
   "source": [
    "new_fibpath = 'fiber_crops/'\n",
    "new_voidpath = 'void_crops/'"
   ]
  },
  {
   "cell_type": "code",
   "execution_count": 37,
   "metadata": {},
   "outputs": [],
   "source": [
    "fiber_crops2 = sort_files(os.listdir('fiber_crops/'))\n",
    "void_crops2 = sort_files(os.listdir('void_crops/'))\n"
   ]
  },
  {
   "cell_type": "code",
   "execution_count": 38,
   "metadata": {},
   "outputs": [
    {
     "name": "stdout",
     "output_type": "stream",
     "text": [
      "Classifying 10% of the image stack took 8735.456924915314 seconds.\n"
     ]
    }
   ],
   "source": [
    "self_generated = []\n",
    "\n",
    "# how long will this take?\n",
    "time_start_self = time.time()\n",
    "\n",
    "for el in range(len(fiber_crops2)):\n",
    "    fib_self = io.ImageCollection(new_fibpath + fiber_crops2[el] + '/*.png',\n",
    "                                       conserve_memory=True)\n",
    "    void_self = io.ImageCollection(new_voidpath + void_crops2[el] + '/*.png',\n",
    "                                        conserve_memory=True)   \n",
    "    classify_self = predict_natalies(fib_self, void_self,model)\n",
    "    self_generated.append(classify_self)\n",
    "    \n",
    "time_end_self = time.time()\n",
    "print(\"Classifying 10% of the image stack took\", time_end_self - time_start_self, \"seconds.\")"
   ]
  },
  {
   "cell_type": "code",
   "execution_count": 40,
   "metadata": {},
   "outputs": [
    {
     "data": {
      "text/plain": [
       "Sensitivity              0.868565\n",
       "Specificity              0.965915\n",
       "Precision                0.979507\n",
       "Neg. Pred Rate           0.796005\n",
       "False Pos. Rate          0.034085\n",
       "False Neg. Rate          0.131435\n",
       "False Discovery Rate:    0.020493\n",
       "Accuracy                 0.902364\n",
       "dtype: float64"
      ]
     },
     "execution_count": 40,
     "metadata": {},
     "output_type": "execute_result"
    }
   ],
   "source": [
    "your_exp = metrics_dataframe(self_generated)\n",
    "your_exp.mean(axis=0)"
   ]
  },
  {
   "cell_type": "code",
   "execution_count": null,
   "metadata": {},
   "outputs": [],
   "source": [
    "# save? run me\n",
    "file_name = \"INSERT-NAME.csv\"\n",
    "your_exp.to_csv(file_name)"
   ]
  },
  {
   "cell_type": "code",
   "execution_count": null,
   "metadata": {},
   "outputs": [],
   "source": []
  },
  {
   "cell_type": "markdown",
   "metadata": {},
   "source": [
    "# Parallelization"
   ]
  },
  {
   "cell_type": "code",
   "execution_count": 73,
   "metadata": {},
   "outputs": [],
   "source": [
    "# but actually since you are creating image collections of folders containing fibers per image slice\n",
    "# perhaps do the image collections saved in a list \n",
    "\n",
    "a = 'ready_data_first_stack/gtn/crops_per_slice/160/*.png'\n",
    "b = 'ready_data_first_stack/gtn/voids_per_slice/160/*.png'"
   ]
  },
  {
   "cell_type": "code",
   "execution_count": 74,
   "metadata": {},
   "outputs": [],
   "source": [
    "# one folder only\n",
    "\n",
    "fibs_small =io.ImageCollection(a, conserve_memory=True)\n",
    "voids_small = io.ImageCollection(b, conserve_memory=True)"
   ]
  },
  {
   "cell_type": "code",
   "execution_count": 77,
   "metadata": {},
   "outputs": [],
   "source": [
    "fibs_small = fibs_small[:5]\n",
    "voids_small = voids_small[:5]"
   ]
  },
  {
   "cell_type": "code",
   "execution_count": 102,
   "metadata": {},
   "outputs": [],
   "source": [
    "ten_percent_fibs = fiber_crops[0:999:10]\n",
    "ten_percent_voids = void_spaces[0:999:10]"
   ]
  },
  {
   "cell_type": "code",
   "execution_count": 146,
   "metadata": {},
   "outputs": [],
   "source": [
    "# create paths\n",
    "f1='ready_data_first_stack/gtn/crops_per_slice/'\n",
    "v1 ='ready_data_first_stack/gtn/voids_per_slice/'\n",
    "\n",
    "def paths_100(fib_path, void_path, fib_folders, void_folders):\n",
    "\n",
    "    paths_fibs = []\n",
    "    paths_voids = []\n",
    "\n",
    "    for k,j in zip(fib_folders, void_folders):\n",
    "        simp_f = fib_path + k\n",
    "        simp_v = void_path + j\n",
    "\n",
    "        paths_fibs.append(simp_f)\n",
    "        paths_voids.append(simp_v)\n",
    "        \n",
    "    return paths_fibs, paths_voids\n",
    "    \n",
    "paths_fibs, paths_voids = paths_100(f1,v1,ten_percent_fibs, ten_percent_voids)"
   ]
  },
  {
   "cell_type": "code",
   "execution_count": 139,
   "metadata": {},
   "outputs": [
    {
     "data": {
      "text/plain": [
       "'159'"
      ]
     },
     "execution_count": 139,
     "metadata": {},
     "output_type": "execute_result"
    }
   ],
   "source": [
    "paths_fibs[0].split('/')[-1]"
   ]
  },
  {
   "cell_type": "code",
   "execution_count": 154,
   "metadata": {},
   "outputs": [],
   "source": [
    "def extract_imgs(path1, path2):\n",
    "    fib_files = []\n",
    "    void_files = []\n",
    "    \n",
    "    final_fib = []\n",
    "    final_void = []\n",
    "    \n",
    "    for l in range(len(path1)):\n",
    "        \n",
    "        fib = path1[l].split('/')[-1] + '/'\n",
    "        void = path2[l].split('/')[-1] + '/'\n",
    "        \n",
    "        a = os.listdir(path1[l])\n",
    "        for f in a[:]:\n",
    "            if not(f.endswith(\".png\")):\n",
    "                a.remove(f)\n",
    "        fib_files.append(a)\n",
    "        \n",
    "        a2 = [fib + i for i in a]\n",
    "        final_fib.append(a2)\n",
    "        \n",
    "        \n",
    "        b = os.listdir(path2[l])\n",
    "        for g in b[:]: \n",
    "            if not(g.endswith(\".png\")):\n",
    "                b.remove(g)\n",
    "        void_files.append(b)\n",
    "        \n",
    "        b2 = [void + e for e in b]\n",
    "        final_void.append(b2)\n",
    "    \n",
    "#    return fib_files, void_files\n",
    "    return final_fib, final_void\n",
    "\n",
    "fib_imgs, void_imgs = extract_imgs(paths_fibs, paths_voids)"
   ]
  },
  {
   "cell_type": "code",
   "execution_count": 156,
   "metadata": {},
   "outputs": [],
   "source": [
    "import itertools\n",
    "\n",
    "\n",
    "def complete_paths(path_f, path_v, f_nested, v_nested):\n",
    "    \"\"\"\n",
    "    Unpacks list of lists created from extract_imgs\n",
    "    completes paths for all of them (full path)\n",
    "    \n",
    "    \"\"\"\n",
    "    merged_fibs = list(itertools.chain(*f_nested))\n",
    "    merged_voids = list(itertools.chain(*v_nested))\n",
    "    \n",
    "    Fibs = [path_f + i for i in merged_fibs]\n",
    "    Voids = [path_v + j for j in merged_voids]\n",
    "    \n",
    "    return Fibs,Voids\n",
    "\n",
    "fibs_subset, voids_subset = complete_paths(f1,v1,fib_imgs,void_imgs)"
   ]
  },
  {
   "cell_type": "code",
   "execution_count": 158,
   "metadata": {},
   "outputs": [],
   "source": [
    "fib_subset_coll = io.ImageCollection(fibs_subset, conserve_memory=True)\n",
    "void_subset_coll = io.ImageCollection(voids_subset,conserve_memory=True)"
   ]
  },
  {
   "cell_type": "code",
   "execution_count": null,
   "metadata": {
    "scrolled": false
   },
   "outputs": [
    {
     "name": "stderr",
     "output_type": "stream",
     "text": [
      "/Users/mirasilvia/anaconda3/lib/python3.7/site-packages/joblib/externals/loky/process_executor.py:706: UserWarning: A worker stopped while some jobs were given to the executor. This can be caused by a too short worker timeout or by a memory leak.\n",
      "  \"timeout or by a memory leak.\", UserWarning\n"
     ]
    }
   ],
   "source": [
    "\n",
    "\n",
    "from joblib import Parallel, delayed\n",
    "#mets_parallel = []\n",
    "def parallel_all():\n",
    "    \n",
    "    classify_them = Parallel(n_jobs=-1)(delayed(predict_natalies)(f,v,model)for f,v in zip(fib_subset_coll,void_subset_coll))\n",
    "    \n",
    "    return classify_them\n",
    "\n",
    "%timeit parallel_all()\n"
   ]
  },
  {
   "cell_type": "code",
   "execution_count": 85,
   "metadata": {},
   "outputs": [
    {
     "data": {
      "text/plain": [
       "[{'Sensitivity': 0.1111111111111111,\n",
       "  'Specificity': 1.0,\n",
       "  'Precision': 1.0,\n",
       "  'Neg. Pred Rate': 0.38461538461538464,\n",
       "  'False Pos. Rate': 0.0,\n",
       "  'False Neg. Rate': 0.8888888888888888,\n",
       "  'False Discovery Rate:': 0.0,\n",
       "  'Accuracy': 0.42857142857142855},\n",
       " {'Sensitivity': 0.13636363636363635,\n",
       "  'Specificity': 1.0,\n",
       "  'Precision': 1.0,\n",
       "  'Neg. Pred Rate': 0.3448275862068966,\n",
       "  'False Pos. Rate': 0.0,\n",
       "  'False Neg. Rate': 0.8636363636363636,\n",
       "  'False Discovery Rate:': 0.0,\n",
       "  'Accuracy': 0.40625},\n",
       " {'Sensitivity': 0.0,\n",
       "  'Specificity': 1.0,\n",
       "  'Precision': nan,\n",
       "  'Neg. Pred Rate': 0.4,\n",
       "  'False Pos. Rate': 0.0,\n",
       "  'False Neg. Rate': 1.0,\n",
       "  'False Discovery Rate:': nan,\n",
       "  'Accuracy': 0.4},\n",
       " {'Sensitivity': 0.0,\n",
       "  'Specificity': 1.0,\n",
       "  'Precision': nan,\n",
       "  'Neg. Pred Rate': 0.2631578947368421,\n",
       "  'False Pos. Rate': 0.0,\n",
       "  'False Neg. Rate': 1.0,\n",
       "  'False Discovery Rate:': nan,\n",
       "  'Accuracy': 0.2631578947368421},\n",
       " {'Sensitivity': 0.20833333333333334,\n",
       "  'Specificity': 1.0,\n",
       "  'Precision': 1.0,\n",
       "  'Neg. Pred Rate': 0.3448275862068966,\n",
       "  'False Pos. Rate': 0.0,\n",
       "  'False Neg. Rate': 0.7916666666666666,\n",
       "  'False Discovery Rate:': 0.0,\n",
       "  'Accuracy': 0.4411764705882353}]"
      ]
     },
     "execution_count": 85,
     "metadata": {},
     "output_type": "execute_result"
    }
   ],
   "source": [
    "test"
   ]
  },
  {
   "cell_type": "code",
   "execution_count": null,
   "metadata": {},
   "outputs": [],
   "source": []
  },
  {
   "cell_type": "code",
   "execution_count": null,
   "metadata": {},
   "outputs": [],
   "source": []
  },
  {
   "cell_type": "code",
   "execution_count": null,
   "metadata": {},
   "outputs": [],
   "source": []
  },
  {
   "cell_type": "code",
   "execution_count": null,
   "metadata": {},
   "outputs": [],
   "source": []
  },
  {
   "cell_type": "code",
   "execution_count": null,
   "metadata": {},
   "outputs": [],
   "source": []
  }
 ],
 "metadata": {
  "kernelspec": {
   "display_name": "Python 3",
   "language": "python",
   "name": "python3"
  },
  "language_info": {
   "codemirror_mode": {
    "name": "ipython",
    "version": 3
   },
   "file_extension": ".py",
   "mimetype": "text/x-python",
   "name": "python",
   "nbconvert_exporter": "python",
   "pygments_lexer": "ipython3",
   "version": "3.7.3"
  }
 },
 "nbformat": 4,
 "nbformat_minor": 2
}
